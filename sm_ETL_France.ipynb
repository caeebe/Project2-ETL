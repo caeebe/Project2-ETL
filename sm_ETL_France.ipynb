{
 "cells": [
  {
   "cell_type": "code",
   "execution_count": 1,
   "metadata": {},
   "outputs": [],
   "source": [
    "import pandas as pd\n",
    "from sqlalchemy import create_engine\n",
    "from config import user, password\n",
    "import pymysql\n",
    "pymysql.install_as_MySQLdb()"
   ]
  },
  {
   "cell_type": "markdown",
   "metadata": {},
   "source": [
    "### Collect Traffic collision data from France.  CSV to dataframe"
   ]
  },
  {
   "cell_type": "code",
   "execution_count": 2,
   "metadata": {},
   "outputs": [
    {
     "data": {
      "text/html": [
       "<div>\n",
       "<style scoped>\n",
       "    .dataframe tbody tr th:only-of-type {\n",
       "        vertical-align: middle;\n",
       "    }\n",
       "\n",
       "    .dataframe tbody tr th {\n",
       "        vertical-align: top;\n",
       "    }\n",
       "\n",
       "    .dataframe thead th {\n",
       "        text-align: right;\n",
       "    }\n",
       "</style>\n",
       "<table border=\"1\" class=\"dataframe\">\n",
       "  <thead>\n",
       "    <tr style=\"text-align: right;\">\n",
       "      <th></th>\n",
       "      <th>Unnamed: 0</th>\n",
       "      <th>accident_id</th>\n",
       "      <th>year</th>\n",
       "      <th>month</th>\n",
       "      <th>day</th>\n",
       "      <th>weather</th>\n",
       "      <th>hour</th>\n",
       "    </tr>\n",
       "  </thead>\n",
       "  <tbody>\n",
       "    <tr>\n",
       "      <th>0</th>\n",
       "      <td>0</td>\n",
       "      <td>2.016000e+11</td>\n",
       "      <td>16.0</td>\n",
       "      <td>2.0</td>\n",
       "      <td>1.0</td>\n",
       "      <td>Other</td>\n",
       "      <td>14</td>\n",
       "    </tr>\n",
       "    <tr>\n",
       "      <th>1</th>\n",
       "      <td>1</td>\n",
       "      <td>2.016000e+11</td>\n",
       "      <td>16.0</td>\n",
       "      <td>3.0</td>\n",
       "      <td>16.0</td>\n",
       "      <td>Clear</td>\n",
       "      <td>18</td>\n",
       "    </tr>\n",
       "    <tr>\n",
       "      <th>2</th>\n",
       "      <td>2</td>\n",
       "      <td>2.016000e+11</td>\n",
       "      <td>16.0</td>\n",
       "      <td>7.0</td>\n",
       "      <td>13.0</td>\n",
       "      <td>Clear</td>\n",
       "      <td>19</td>\n",
       "    </tr>\n",
       "    <tr>\n",
       "      <th>3</th>\n",
       "      <td>3</td>\n",
       "      <td>2.016000e+11</td>\n",
       "      <td>16.0</td>\n",
       "      <td>8.0</td>\n",
       "      <td>15.0</td>\n",
       "      <td>Other</td>\n",
       "      <td>19</td>\n",
       "    </tr>\n",
       "    <tr>\n",
       "      <th>4</th>\n",
       "      <td>4</td>\n",
       "      <td>2.016000e+11</td>\n",
       "      <td>16.0</td>\n",
       "      <td>12.0</td>\n",
       "      <td>23.0</td>\n",
       "      <td>Clear</td>\n",
       "      <td>11</td>\n",
       "    </tr>\n",
       "  </tbody>\n",
       "</table>\n",
       "</div>"
      ],
      "text/plain": [
       "   Unnamed: 0   accident_id  year  month   day weather hour\n",
       "0           0  2.016000e+11  16.0    2.0   1.0   Other   14\n",
       "1           1  2.016000e+11  16.0    3.0  16.0   Clear   18\n",
       "2           2  2.016000e+11  16.0    7.0  13.0   Clear   19\n",
       "3           3  2.016000e+11  16.0    8.0  15.0   Other   19\n",
       "4           4  2.016000e+11  16.0   12.0  23.0   Clear   11"
      ]
     },
     "execution_count": 2,
     "metadata": {},
     "output_type": "execute_result"
    }
   ],
   "source": [
    "csv_characteristics = \"FranceCSV/sm_caracteristics.csv\"\n",
    "characteristics_df = pd.read_csv(csv_characteristics, low_memory = False, encoding = 'latin-1')\n",
    "# drop unnecessary columns and rename the ones we are keeping\n",
    "characteristics_df.drop(columns=['lum', 'agg', 'int', 'col', 'com', 'adr', 'gps', 'lat', \n",
    "                                 'long', 'dep'], inplace=True)\n",
    "characteristics_df.rename(columns={\"Num_Acc\": \"accident_id\", \"an\": \"year\", \"mois\": \"month\", \n",
    "                                   \"jour\": \"day\", \"atm\": \"weather\"}, inplace=True)\n",
    "# break the time into hour and minutes to match canada formatting\n",
    "characteristics_df['hrmn']=characteristics_df['hrmn'].apply(int)\n",
    "characteristics_df['hrmn']=characteristics_df['hrmn'].apply(str)\n",
    "characteristics_df['hour'] = characteristics_df['hrmn'].str.slice(start=0, stop=-2)\n",
    "characteristics_df.drop(columns=['hrmn'], inplace=True)\n",
    "# clarify the weather coding with real words\n",
    "characteristics_df['weather'] = characteristics_df['weather'].replace({1: 'Clear', 2: 'Rain', 3: 'Rain',\n",
    "                                                                      4: 'Snow/Hail', 5: 'Fog/Smoke', 6: 'Strong Wind',\n",
    "                                                                      7: 'Other', 8: 'Other', 9: 'Other'})\n",
    "characteristics_df['weather'].fillna(value='Other',inplace=True)\n",
    "characteristics_df.head()\n"
   ]
  },
  {
   "cell_type": "code",
   "execution_count": 3,
   "metadata": {},
   "outputs": [
    {
     "data": {
      "text/plain": [
       "Unnamed: 0       int64\n",
       "accident_id    float64\n",
       "year           float64\n",
       "month          float64\n",
       "day            float64\n",
       "weather         object\n",
       "hour            object\n",
       "dtype: object"
      ]
     },
     "execution_count": 3,
     "metadata": {},
     "output_type": "execute_result"
    }
   ],
   "source": [
    "characteristics_df.dtypes"
   ]
  },
  {
   "cell_type": "code",
   "execution_count": 4,
   "metadata": {},
   "outputs": [
    {
     "data": {
      "text/html": [
       "<div>\n",
       "<style scoped>\n",
       "    .dataframe tbody tr th:only-of-type {\n",
       "        vertical-align: middle;\n",
       "    }\n",
       "\n",
       "    .dataframe tbody tr th {\n",
       "        vertical-align: top;\n",
       "    }\n",
       "\n",
       "    .dataframe thead th {\n",
       "        text-align: right;\n",
       "    }\n",
       "</style>\n",
       "<table border=\"1\" class=\"dataframe\">\n",
       "  <thead>\n",
       "    <tr style=\"text-align: right;\">\n",
       "      <th></th>\n",
       "      <th>Unnamed: 0</th>\n",
       "      <th>accident_id</th>\n",
       "      <th>surface</th>\n",
       "    </tr>\n",
       "  </thead>\n",
       "  <tbody>\n",
       "    <tr>\n",
       "      <th>0</th>\n",
       "      <td>0</td>\n",
       "      <td>201600000001</td>\n",
       "      <td>Normal</td>\n",
       "    </tr>\n",
       "    <tr>\n",
       "      <th>1</th>\n",
       "      <td>1</td>\n",
       "      <td>201600000002</td>\n",
       "      <td>Normal</td>\n",
       "    </tr>\n",
       "    <tr>\n",
       "      <th>2</th>\n",
       "      <td>2</td>\n",
       "      <td>201600000003</td>\n",
       "      <td>Wet</td>\n",
       "    </tr>\n",
       "    <tr>\n",
       "      <th>3</th>\n",
       "      <td>3</td>\n",
       "      <td>201600000004</td>\n",
       "      <td>Normal</td>\n",
       "    </tr>\n",
       "    <tr>\n",
       "      <th>4</th>\n",
       "      <td>4</td>\n",
       "      <td>201600000005</td>\n",
       "      <td>Normal</td>\n",
       "    </tr>\n",
       "  </tbody>\n",
       "</table>\n",
       "</div>"
      ],
      "text/plain": [
       "   Unnamed: 0   accident_id surface\n",
       "0           0  201600000001  Normal\n",
       "1           1  201600000002  Normal\n",
       "2           2  201600000003     Wet\n",
       "3           3  201600000004  Normal\n",
       "4           4  201600000005  Normal"
      ]
     },
     "execution_count": 4,
     "metadata": {},
     "output_type": "execute_result"
    }
   ],
   "source": [
    "csv_places = \"FranceCSV/sm_places.csv\"\n",
    "places_df = pd.read_csv(csv_places, low_memory = False, encoding = 'latin-1')\n",
    "# drop unnecessary columns and rename the ones we are keeping\n",
    "places_df.drop(columns=['catr', 'voie', 'v1', 'v2', 'circ', 'nbv', 'pr', 'pr1','vosp', 'prof', 'plan', \n",
    "                        'lartpc', 'larrout', 'infra', 'situ', 'env1'], inplace=True)\n",
    "places_df.rename(columns={\"Num_Acc\": \"accident_id\", \"surf\": \"surface\"}, inplace=True)\n",
    "# clarify the surface coding with real words\n",
    "places_df['surface'] = places_df['surface'].replace({1: 'Normal', 2: 'Wet', 3: 'Puddles',\n",
    "                                                                      4: 'Flooded', 5: 'Snow', 6: 'Muddy',\n",
    "                                                                      7: 'Icy', 8: 'Oil', 9: 'Other'})\n",
    "places_df['surface'].fillna(value='Other',inplace=True)\n",
    "places_df.head()"
   ]
  },
  {
   "cell_type": "code",
   "execution_count": 5,
   "metadata": {},
   "outputs": [
    {
     "data": {
      "text/plain": [
       "Unnamed: 0     59432\n",
       "accident_id    59432\n",
       "surface        59432\n",
       "dtype: int64"
      ]
     },
     "execution_count": 5,
     "metadata": {},
     "output_type": "execute_result"
    }
   ],
   "source": [
    "places_df.count()"
   ]
  },
  {
   "cell_type": "code",
   "execution_count": 6,
   "metadata": {},
   "outputs": [
    {
     "data": {
      "text/html": [
       "<div>\n",
       "<style scoped>\n",
       "    .dataframe tbody tr th:only-of-type {\n",
       "        vertical-align: middle;\n",
       "    }\n",
       "\n",
       "    .dataframe tbody tr th {\n",
       "        vertical-align: top;\n",
       "    }\n",
       "\n",
       "    .dataframe thead th {\n",
       "        text-align: right;\n",
       "    }\n",
       "</style>\n",
       "<table border=\"1\" class=\"dataframe\">\n",
       "  <thead>\n",
       "    <tr style=\"text-align: right;\">\n",
       "      <th></th>\n",
       "      <th>fatality</th>\n",
       "      <th>safety_device</th>\n",
       "    </tr>\n",
       "    <tr>\n",
       "      <th>accident_id</th>\n",
       "      <th></th>\n",
       "      <th></th>\n",
       "    </tr>\n",
       "  </thead>\n",
       "  <tbody>\n",
       "    <tr>\n",
       "      <th>201600000001</th>\n",
       "      <td>0</td>\n",
       "      <td>Used</td>\n",
       "    </tr>\n",
       "    <tr>\n",
       "      <th>201600000002</th>\n",
       "      <td>0</td>\n",
       "      <td>Used</td>\n",
       "    </tr>\n",
       "    <tr>\n",
       "      <th>201600000003</th>\n",
       "      <td>0</td>\n",
       "      <td>Used</td>\n",
       "    </tr>\n",
       "    <tr>\n",
       "      <th>201600000004</th>\n",
       "      <td>0</td>\n",
       "      <td>Unknown</td>\n",
       "    </tr>\n",
       "    <tr>\n",
       "      <th>201600000005</th>\n",
       "      <td>0</td>\n",
       "      <td>Used</td>\n",
       "    </tr>\n",
       "  </tbody>\n",
       "</table>\n",
       "</div>"
      ],
      "text/plain": [
       "              fatality safety_device\n",
       "accident_id                         \n",
       "201600000001         0          Used\n",
       "201600000002         0          Used\n",
       "201600000003         0          Used\n",
       "201600000004         0       Unknown\n",
       "201600000005         0          Used"
      ]
     },
     "execution_count": 6,
     "metadata": {},
     "output_type": "execute_result"
    }
   ],
   "source": [
    "csv_users = \"FranceCSV/sm_users.csv\"\n",
    "users_df = pd.read_csv(csv_users, low_memory = False, encoding = 'latin-1')\n",
    "# drop unnecessary columns and rename the ones we are keeping\n",
    "users_df.drop(columns=['place', 'catu', 'sexe', 'trajet', 'locp', 'actp', 'etatp', 'an_nais', 'num_veh'], inplace=True)\n",
    "users_df.rename(columns={\"Num_Acc\": \"accident_id\", \"secu\":\"safety_device\", 'grav':'fatality'}, inplace=True)\n",
    "# replace France's coding to 1 for a death and 0 for no death\n",
    "users_df['fatality'] = users_df['fatality'].replace({1: 0, 2: 1, 3: 0, 4: 0})\n",
    "# replace France's coding for safety device use, 1 for unknown, 0 for yes, 2 for not used\n",
    "users_df['safety_device'].fillna(value=0,inplace=True)\n",
    "users_df['safety_device'] = users_df['safety_device'].replace({1: 1, 2: 1, 3: 1, 10: 1, 20:1, 30:1, 40:1, 90:1, \n",
    "                                                 13:1, 23:1, 33:1, 43:1, 93:1})\n",
    "users_df['safety_device'] = users_df['safety_device'].replace({12: 2, 22: 2, 32: 2, 42: 2, 92:2})\n",
    "users_df['safety_device'] = users_df['safety_device'].replace({11: 0, 21: 0, 31: 0, 41: 0, 91:0})\n",
    "# for each accident report on safety usage, 2 = unused device, 1 = unknown usage, 0 = all safety devices available used\n",
    "user_safety = users_df[['accident_id','safety_device']].groupby('accident_id').max()\n",
    "# clarify the safety coding with real words\n",
    "user_safety['safety_device'] = user_safety['safety_device'].replace({0: 'Used', 1: 'Unknown', 2: 'Not Used'})\n",
    "# for each accident report on total fatalities\n",
    "user_fatal = users_df[['accident_id','fatality']].groupby('accident_id').sum()\n",
    "users_group = pd.merge(user_fatal, user_safety, how=\"left\", on='accident_id')\n",
    "users_group.head()"
   ]
  },
  {
   "cell_type": "code",
   "execution_count": 7,
   "metadata": {},
   "outputs": [
    {
     "data": {
      "text/plain": [
       "fatality         59432\n",
       "safety_device    59432\n",
       "dtype: int64"
      ]
     },
     "execution_count": 7,
     "metadata": {},
     "output_type": "execute_result"
    }
   ],
   "source": [
    "users_group.count()"
   ]
  },
  {
   "cell_type": "code",
   "execution_count": 8,
   "metadata": {},
   "outputs": [
    {
     "data": {
      "text/html": [
       "<div>\n",
       "<style scoped>\n",
       "    .dataframe tbody tr th:only-of-type {\n",
       "        vertical-align: middle;\n",
       "    }\n",
       "\n",
       "    .dataframe tbody tr th {\n",
       "        vertical-align: top;\n",
       "    }\n",
       "\n",
       "    .dataframe thead th {\n",
       "        text-align: right;\n",
       "    }\n",
       "</style>\n",
       "<table border=\"1\" class=\"dataframe\">\n",
       "  <thead>\n",
       "    <tr style=\"text-align: right;\">\n",
       "      <th></th>\n",
       "      <th>Unnamed: 0</th>\n",
       "      <th>vehicle_category</th>\n",
       "    </tr>\n",
       "    <tr>\n",
       "      <th>accident_id</th>\n",
       "      <th></th>\n",
       "      <th></th>\n",
       "    </tr>\n",
       "  </thead>\n",
       "  <tbody>\n",
       "    <tr>\n",
       "      <th>201600000001</th>\n",
       "      <td>1</td>\n",
       "      <td>1</td>\n",
       "    </tr>\n",
       "    <tr>\n",
       "      <th>201600000002</th>\n",
       "      <td>2</td>\n",
       "      <td>1</td>\n",
       "    </tr>\n",
       "    <tr>\n",
       "      <th>201600000003</th>\n",
       "      <td>3</td>\n",
       "      <td>1</td>\n",
       "    </tr>\n",
       "    <tr>\n",
       "      <th>201600000004</th>\n",
       "      <td>5</td>\n",
       "      <td>1</td>\n",
       "    </tr>\n",
       "    <tr>\n",
       "      <th>201600000005</th>\n",
       "      <td>7</td>\n",
       "      <td>1</td>\n",
       "    </tr>\n",
       "  </tbody>\n",
       "</table>\n",
       "</div>"
      ],
      "text/plain": [
       "              Unnamed: 0  vehicle_category\n",
       "accident_id                               \n",
       "201600000001           1                 1\n",
       "201600000002           2                 1\n",
       "201600000003           3                 1\n",
       "201600000004           5                 1\n",
       "201600000005           7                 1"
      ]
     },
     "execution_count": 8,
     "metadata": {},
     "output_type": "execute_result"
    }
   ],
   "source": [
    "csv_vehicles = \"FranceCSV/sm_vehicles.csv\"\n",
    "vehicles_df = pd.read_csv(csv_vehicles, low_memory = False, encoding = 'latin-1')\n",
    "# drop unnecessary columns and rename the ones we are keeping\n",
    "vehicles_df.drop(columns=[\"senc\", \"occutc\", \"choc\", \"obs\", \"obsm\", \"manv\", \"num_veh\"], inplace=True)\n",
    "vehicles_df.rename(columns={'Num_Acc':'accident_id', 'catv':'vehicle_category'}, inplace=True)\n",
    "# replace France's coding for vehicle type to 1 for light duty vehicle and 0 for any other type\n",
    "vehicles_df['vehicle_category'] = vehicles_df['vehicle_category'].replace({1: 0, 2: 0, 3: 0, 4: 0, 5:0, 6:0, 7:1, 8:0, 9:0,\n",
    "                                                                          10:0, 11:0, 12:0, 13:0, 14:0, 15:0, 16:0, 17:1,\n",
    "                                                                          18:0, 19:0, 20:0, 21:0, 30:0, 31:0, 32:0, 33:0,\n",
    "                                                                          34:0, 35:0, 36:0, 37:1, 38:0, 39:0, 40:0, 99:0})\n",
    "vehicle_light_df = vehicles_df.groupby('accident_id').max()\n",
    "vehicle_light_df.head()"
   ]
  },
  {
   "cell_type": "code",
   "execution_count": 9,
   "metadata": {},
   "outputs": [
    {
     "data": {
      "text/plain": [
       "array([1, 0], dtype=int64)"
      ]
     },
     "execution_count": 9,
     "metadata": {},
     "output_type": "execute_result"
    }
   ],
   "source": [
    "vehicles_df['vehicle_category'].unique()"
   ]
  },
  {
   "cell_type": "code",
   "execution_count": 10,
   "metadata": {},
   "outputs": [
    {
     "name": "stderr",
     "output_type": "stream",
     "text": [
      "C:\\Users\\caeeb\\Anaconda3\\lib\\site-packages\\ipykernel_launcher.py:6: SettingWithCopyWarning: \n",
      "A value is trying to be set on a copy of a slice from a DataFrame.\n",
      "Try using .loc[row_indexer,col_indexer] = value instead\n",
      "\n",
      "See the caveats in the documentation: http://pandas.pydata.org/pandas-docs/stable/indexing.html#indexing-view-versus-copy\n",
      "  \n"
     ]
    },
    {
     "data": {
      "text/html": [
       "<div>\n",
       "<style scoped>\n",
       "    .dataframe tbody tr th:only-of-type {\n",
       "        vertical-align: middle;\n",
       "    }\n",
       "\n",
       "    .dataframe tbody tr th {\n",
       "        vertical-align: top;\n",
       "    }\n",
       "\n",
       "    .dataframe thead th {\n",
       "        text-align: right;\n",
       "    }\n",
       "</style>\n",
       "<table border=\"1\" class=\"dataframe\">\n",
       "  <thead>\n",
       "    <tr style=\"text-align: right;\">\n",
       "      <th></th>\n",
       "      <th>accident_id</th>\n",
       "      <th>year</th>\n",
       "      <th>month</th>\n",
       "      <th>day</th>\n",
       "      <th>hour</th>\n",
       "      <th>weather</th>\n",
       "      <th>surface</th>\n",
       "      <th>fatality</th>\n",
       "      <th>safety_device</th>\n",
       "      <th>vehicle_category</th>\n",
       "    </tr>\n",
       "  </thead>\n",
       "  <tbody>\n",
       "    <tr>\n",
       "      <th>0</th>\n",
       "      <td>2.016000e+11</td>\n",
       "      <td>2016.0</td>\n",
       "      <td>2.0</td>\n",
       "      <td>1.0</td>\n",
       "      <td>14</td>\n",
       "      <td>Other</td>\n",
       "      <td>Normal</td>\n",
       "      <td>0</td>\n",
       "      <td>Used</td>\n",
       "      <td>1</td>\n",
       "    </tr>\n",
       "    <tr>\n",
       "      <th>1</th>\n",
       "      <td>2.016000e+11</td>\n",
       "      <td>2016.0</td>\n",
       "      <td>3.0</td>\n",
       "      <td>16.0</td>\n",
       "      <td>18</td>\n",
       "      <td>Clear</td>\n",
       "      <td>Normal</td>\n",
       "      <td>0</td>\n",
       "      <td>Used</td>\n",
       "      <td>1</td>\n",
       "    </tr>\n",
       "    <tr>\n",
       "      <th>2</th>\n",
       "      <td>2.016000e+11</td>\n",
       "      <td>2016.0</td>\n",
       "      <td>7.0</td>\n",
       "      <td>13.0</td>\n",
       "      <td>19</td>\n",
       "      <td>Clear</td>\n",
       "      <td>Wet</td>\n",
       "      <td>0</td>\n",
       "      <td>Used</td>\n",
       "      <td>1</td>\n",
       "    </tr>\n",
       "    <tr>\n",
       "      <th>3</th>\n",
       "      <td>2.016000e+11</td>\n",
       "      <td>2016.0</td>\n",
       "      <td>8.0</td>\n",
       "      <td>15.0</td>\n",
       "      <td>19</td>\n",
       "      <td>Other</td>\n",
       "      <td>Normal</td>\n",
       "      <td>0</td>\n",
       "      <td>Unknown</td>\n",
       "      <td>1</td>\n",
       "    </tr>\n",
       "    <tr>\n",
       "      <th>4</th>\n",
       "      <td>2.016000e+11</td>\n",
       "      <td>2016.0</td>\n",
       "      <td>12.0</td>\n",
       "      <td>23.0</td>\n",
       "      <td>11</td>\n",
       "      <td>Clear</td>\n",
       "      <td>Normal</td>\n",
       "      <td>0</td>\n",
       "      <td>Used</td>\n",
       "      <td>1</td>\n",
       "    </tr>\n",
       "  </tbody>\n",
       "</table>\n",
       "</div>"
      ],
      "text/plain": [
       "    accident_id    year  month   day hour weather surface  fatality  \\\n",
       "0  2.016000e+11  2016.0    2.0   1.0   14   Other  Normal         0   \n",
       "1  2.016000e+11  2016.0    3.0  16.0   18   Clear  Normal         0   \n",
       "2  2.016000e+11  2016.0    7.0  13.0   19   Clear     Wet         0   \n",
       "3  2.016000e+11  2016.0    8.0  15.0   19   Other  Normal         0   \n",
       "4  2.016000e+11  2016.0   12.0  23.0   11   Clear  Normal         0   \n",
       "\n",
       "  safety_device  vehicle_category  \n",
       "0          Used                 1  \n",
       "1          Used                 1  \n",
       "2          Used                 1  \n",
       "3       Unknown                 1  \n",
       "4          Used                 1  "
      ]
     },
     "execution_count": 10,
     "metadata": {},
     "output_type": "execute_result"
    }
   ],
   "source": [
    "c_p_df = pd.merge(characteristics_df, places_df, how=\"left\", on=\"accident_id\")\n",
    "add_users_df = pd.merge(c_p_df, users_group, how=\"left\", on=\"accident_id\")\n",
    "france_df = pd.merge(add_users_df, vehicle_light_df, how=\"left\", on=(\"accident_id\"))\n",
    "all_france_df = france_df[[\"accident_id\", \"year\", \"month\", \"day\", \"hour\", \"weather\", \n",
    "                           \"surface\", \"fatality\", \"safety_device\", \"vehicle_category\"]]\n",
    "all_france_df['year'] += 2000\n",
    "all_france_df.head()"
   ]
  },
  {
   "cell_type": "code",
   "execution_count": 11,
   "metadata": {},
   "outputs": [
    {
     "data": {
      "text/plain": [
       "accident_id         59432\n",
       "year                59432\n",
       "month               59432\n",
       "day                 59432\n",
       "hour                59432\n",
       "weather             59432\n",
       "surface             59432\n",
       "fatality            59432\n",
       "safety_device       59432\n",
       "vehicle_category    59432\n",
       "dtype: int64"
      ]
     },
     "execution_count": 11,
     "metadata": {},
     "output_type": "execute_result"
    }
   ],
   "source": [
    "all_france_df.count()"
   ]
  },
  {
   "cell_type": "code",
   "execution_count": 12,
   "metadata": {},
   "outputs": [
    {
     "name": "stderr",
     "output_type": "stream",
     "text": [
      "C:\\Users\\caeeb\\Anaconda3\\lib\\site-packages\\pandas\\core\\frame.py:3697: SettingWithCopyWarning: \n",
      "A value is trying to be set on a copy of a slice from a DataFrame\n",
      "\n",
      "See the caveats in the documentation: http://pandas.pydata.org/pandas-docs/stable/indexing.html#indexing-view-versus-copy\n",
      "  errors=errors)\n",
      "C:\\Users\\caeeb\\Anaconda3\\lib\\site-packages\\ipykernel_launcher.py:7: SettingWithCopyWarning: \n",
      "A value is trying to be set on a copy of a slice from a DataFrame.\n",
      "Try using .loc[row_indexer,col_indexer] = value instead\n",
      "\n",
      "See the caveats in the documentation: http://pandas.pydata.org/pandas-docs/stable/indexing.html#indexing-view-versus-copy\n",
      "  import sys\n"
     ]
    },
    {
     "data": {
      "text/html": [
       "<div>\n",
       "<style scoped>\n",
       "    .dataframe tbody tr th:only-of-type {\n",
       "        vertical-align: middle;\n",
       "    }\n",
       "\n",
       "    .dataframe tbody tr th {\n",
       "        vertical-align: top;\n",
       "    }\n",
       "\n",
       "    .dataframe thead th {\n",
       "        text-align: right;\n",
       "    }\n",
       "</style>\n",
       "<table border=\"1\" class=\"dataframe\">\n",
       "  <thead>\n",
       "    <tr style=\"text-align: right;\">\n",
       "      <th></th>\n",
       "      <th>accident_id</th>\n",
       "      <th>year</th>\n",
       "      <th>month</th>\n",
       "      <th>day</th>\n",
       "      <th>hour</th>\n",
       "      <th>weather</th>\n",
       "      <th>surface</th>\n",
       "      <th>fatality</th>\n",
       "      <th>safety_device</th>\n",
       "      <th>source</th>\n",
       "    </tr>\n",
       "  </thead>\n",
       "  <tbody>\n",
       "    <tr>\n",
       "      <th>13</th>\n",
       "      <td>2.016000e+11</td>\n",
       "      <td>2016.0</td>\n",
       "      <td>4.0</td>\n",
       "      <td>17.0</td>\n",
       "      <td>12</td>\n",
       "      <td>Clear</td>\n",
       "      <td>Normal</td>\n",
       "      <td>1</td>\n",
       "      <td>Used</td>\n",
       "      <td>France</td>\n",
       "    </tr>\n",
       "    <tr>\n",
       "      <th>21</th>\n",
       "      <td>2.016000e+11</td>\n",
       "      <td>2016.0</td>\n",
       "      <td>4.0</td>\n",
       "      <td>2.0</td>\n",
       "      <td>10</td>\n",
       "      <td>Clear</td>\n",
       "      <td>Normal</td>\n",
       "      <td>1</td>\n",
       "      <td>Not Used</td>\n",
       "      <td>France</td>\n",
       "    </tr>\n",
       "    <tr>\n",
       "      <th>22</th>\n",
       "      <td>2.016000e+11</td>\n",
       "      <td>2016.0</td>\n",
       "      <td>11.0</td>\n",
       "      <td>7.0</td>\n",
       "      <td>15</td>\n",
       "      <td>Rain</td>\n",
       "      <td>Wet</td>\n",
       "      <td>1</td>\n",
       "      <td>Used</td>\n",
       "      <td>France</td>\n",
       "    </tr>\n",
       "    <tr>\n",
       "      <th>24</th>\n",
       "      <td>2.016000e+11</td>\n",
       "      <td>2016.0</td>\n",
       "      <td>12.0</td>\n",
       "      <td>4.0</td>\n",
       "      <td>5</td>\n",
       "      <td>Other</td>\n",
       "      <td>Icy</td>\n",
       "      <td>1</td>\n",
       "      <td>Unknown</td>\n",
       "      <td>France</td>\n",
       "    </tr>\n",
       "    <tr>\n",
       "      <th>57</th>\n",
       "      <td>2.016000e+11</td>\n",
       "      <td>2016.0</td>\n",
       "      <td>3.0</td>\n",
       "      <td>10.0</td>\n",
       "      <td>4</td>\n",
       "      <td>Clear</td>\n",
       "      <td>Normal</td>\n",
       "      <td>1</td>\n",
       "      <td>Not Used</td>\n",
       "      <td>France</td>\n",
       "    </tr>\n",
       "  </tbody>\n",
       "</table>\n",
       "</div>"
      ],
      "text/plain": [
       "     accident_id    year  month   day hour weather surface  fatality  \\\n",
       "13  2.016000e+11  2016.0    4.0  17.0   12   Clear  Normal         1   \n",
       "21  2.016000e+11  2016.0    4.0   2.0   10   Clear  Normal         1   \n",
       "22  2.016000e+11  2016.0   11.0   7.0   15    Rain     Wet         1   \n",
       "24  2.016000e+11  2016.0   12.0   4.0    5   Other     Icy         1   \n",
       "57  2.016000e+11  2016.0    3.0  10.0    4   Clear  Normal         1   \n",
       "\n",
       "   safety_device  source  \n",
       "13          Used  France  \n",
       "21      Not Used  France  \n",
       "22          Used  France  \n",
       "24       Unknown  France  \n",
       "57      Not Used  France  "
      ]
     },
     "execution_count": 12,
     "metadata": {},
     "output_type": "execute_result"
    }
   ],
   "source": [
    "# limit to only accidents involving light duty vehicles (cars)\n",
    "car_france_df = all_france_df.loc[all_france_df[\"vehicle_category\"] == 1, :]\n",
    "# limit to only fatal accidents\n",
    "fatal_france_df = car_france_df.loc[car_france_df[\"fatality\"] > 0, :]\n",
    "fatal_france_df.drop(columns=[\"vehicle_category\"], inplace=True)\n",
    "# Add a source column\n",
    "fatal_france_df['source'] = 'France'\n",
    "fatal_france_df.head()"
   ]
  },
  {
   "cell_type": "code",
   "execution_count": 13,
   "metadata": {},
   "outputs": [
    {
     "data": {
      "text/plain": [
       "accident_id      2581\n",
       "year             2581\n",
       "month            2581\n",
       "day              2581\n",
       "hour             2581\n",
       "weather          2581\n",
       "surface          2581\n",
       "fatality         2581\n",
       "safety_device    2581\n",
       "source           2581\n",
       "dtype: int64"
      ]
     },
     "execution_count": 13,
     "metadata": {},
     "output_type": "execute_result"
    }
   ],
   "source": [
    "fatal_france_df.count()"
   ]
  },
  {
   "cell_type": "code",
   "execution_count": 14,
   "metadata": {},
   "outputs": [
    {
     "data": {
      "text/plain": [
       "6"
      ]
     },
     "execution_count": 14,
     "metadata": {},
     "output_type": "execute_result"
    }
   ],
   "source": [
    "# largest fatal accident in the dataset\n",
    "fatal_france_df['fatality'].max()"
   ]
  },
  {
   "cell_type": "markdown",
   "metadata": {},
   "source": [
    "### Export data to SQL database"
   ]
  },
  {
   "cell_type": "code",
   "execution_count": 15,
   "metadata": {},
   "outputs": [],
   "source": [
    "rds_connection_string = user + \":\" + password + \"@localhost:3306/traffic_etl\"\n",
    "engine = create_engine(f'mysql://{rds_connection_string}')"
   ]
  },
  {
   "cell_type": "code",
   "execution_count": 16,
   "metadata": {},
   "outputs": [
    {
     "data": {
      "text/plain": [
       "['accidents']"
      ]
     },
     "execution_count": 16,
     "metadata": {},
     "output_type": "execute_result"
    }
   ],
   "source": [
    "# prove that it is working:\n",
    "engine.table_names()"
   ]
  },
  {
   "cell_type": "code",
   "execution_count": 17,
   "metadata": {},
   "outputs": [],
   "source": [
    "# No reason to run this again!\n",
    "fatal_france_df.to_sql(name='accidents', con=engine, if_exists='append', index=False)"
   ]
  },
  {
   "cell_type": "code",
   "execution_count": null,
   "metadata": {},
   "outputs": [],
   "source": []
  }
 ],
 "metadata": {
  "kernelspec": {
   "display_name": "Python [conda env:root]",
   "language": "python",
   "name": "conda-root-py"
  },
  "language_info": {
   "codemirror_mode": {
    "name": "ipython",
    "version": 3
   },
   "file_extension": ".py",
   "mimetype": "text/x-python",
   "name": "python",
   "nbconvert_exporter": "python",
   "pygments_lexer": "ipython3",
   "version": "3.7.1"
  }
 },
 "nbformat": 4,
 "nbformat_minor": 2
}
